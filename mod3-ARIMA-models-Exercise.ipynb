{
 "cells": [
  {
   "cell_type": "markdown",
   "metadata": {},
   "source": [
    "<a href=\"https://www.coursera.org/learn/applying-data-analytics-business-in-finance\"> <img src=\"./resources/illinois_banner.png\" alt=\"applying-data-analytics-business-in-finance\"/> </a>"
   ]
  },
  {
   "cell_type": "markdown",
   "metadata": {},
   "source": [
    "# Stationarity Data and ARIMA Model\n",
    "*This lab was developed by: <br> Jose Luis Rodriguez, Director of Margolis Market Information Lab, R.C. Evans Innovation Fellow at Gies College of Business\n",
    "<br> Meiou Wen, MSF Teaching Assistant, Gies College of Business*\n",
    "\n",
    "On this lab we will begin with stationarity, the first and necessary step in analyzing time series data. We will learn how to identify if a time series is stationary or not and know how to make nonstationary data become stationary:\n",
    "\n",
    "* Develop an understanding of stationarity, identifying two forms of it and their importance in time series analysis\n",
    "* Understand stationarity testing procedure: how to conduct a stationarity test, how to read the ADF test result, how to make a nonstationary series become stationary, and how to determine the order of integration\n",
    "* Understand the various components of ARIMA parameters, and understand the procedure of modelling ARIMA forecasting\n",
    "* Identify opportunities for utilizing ARIMA forecasting model in reality\n",
    "\n",
    "### Packages and Configurations\n",
    "\n",
    "* tidyverse: https://www.tidyverse.org/\n",
    "* lubridate: https://lubridate.tidyverse.org/\n",
    "* tseries: https://cran.r-project.org/web/packages/tseries\n",
    "* forecast: https://cran.r-project.org/web/packages/forecast/\n",
    "* xts: https://cran.r-project.org/web/packages/xts"
   ]
  },
  {
   "cell_type": "code",
   "execution_count": null,
   "metadata": {},
   "outputs": [],
   "source": [
    "# SUPPRESS PACKAGE WARNINGS\n",
    "quietly <- suppressPackageStartupMessages\n",
    "\n",
    "# DISABLE SCIENTIFIC NOTATION\n",
    "options(scipen = 9999)\n",
    "\n",
    "# CHANGE CHARTS DIMENSIONS\n",
    "options(repr.plot.width=12, repr.plot.height=7)\n",
    "\n",
    "# LOAD PACKAGES SUPRESS WARNINGS\n",
    "quietly(library(xts))\n",
    "quietly(library(tidyverse))\n",
    "quietly(library(lubridate))\n",
    "quietly(library(forecast))\n",
    "quietly(library(urca))"
   ]
  },
  {
   "cell_type": "markdown",
   "metadata": {},
   "source": [
    "### Data Import and Exploration\n",
    "\n",
    "#### SPY US - SPDR S&P 500 ETF Trust\n",
    "\n",
    "SPDR S&P 500 ETF Trust is an exchange-traded fund incorporated in the USA. The ETF tracks the S&P 500 Index. The Trust consists of a portfolio representing all 500 stocks in the S&P 500 Index. It holds predominantly large-cap U.S. stocks. This ETF is structured as a Unit Investment Trust and pays dividends on a quarterly basis. The holdings are weighted by market capitalization. "
   ]
  },
  {
   "cell_type": "code",
   "execution_count": null,
   "metadata": {},
   "outputs": [],
   "source": [
    "# READ THE .CSV FILE AS DATA FRAME\n",
    "spy_df = read_csv(\"data/SPY.csv\")"
   ]
  },
  {
   "cell_type": "code",
   "execution_count": null,
   "metadata": {},
   "outputs": [],
   "source": [
    "head(spy_df)"
   ]
  },
  {
   "cell_type": "code",
   "execution_count": null,
   "metadata": {},
   "outputs": [],
   "source": [
    "# CREATE AN EMPTY COLUMN volume\n",
    "volume = c()\n",
    "# CREATE A LOOP FUNCTION TO FILL IN volume\n",
    "for(entry in spy_df$volume){\n",
    "    if(str_detect(string = entry, \"M\")){\n",
    "        v = gsub(\"M\",\"\", entry)\n",
    "        v = as.numeric(v) * 1000000\n",
    "        volume = c(volume, v)\n",
    "    }\n",
    "    else if(str_detect(string = entry, \"k\")){\n",
    "        v = gsub(\"k\",\"\", entry)\n",
    "        v = as.numeric(v) * 1000\n",
    "        volume = c(volume, v)\n",
    "    }\n",
    "    else{\n",
    "        v = as.numeric(entry)\n",
    "        volume = c(volume, v)\n",
    "    }\n",
    "}"
   ]
  },
  {
   "cell_type": "code",
   "execution_count": null,
   "metadata": {},
   "outputs": [],
   "source": [
    "# APPEND volume TO spy_df\n",
    "spy_df$volume = volume"
   ]
  },
  {
   "cell_type": "code",
   "execution_count": null,
   "metadata": {},
   "outputs": [],
   "source": [
    "# CHECK THE FIRST FEW ROWS OF spy_df\n",
    "head(spy_df)"
   ]
  },
  {
   "cell_type": "code",
   "execution_count": null,
   "metadata": {},
   "outputs": [],
   "source": [
    "# CREATE A NEW OBJECT, spy_xts, CONVERT date IN spy_df TO POSIXct TIME FORMAT AND ORDER BY TIME\n",
    "spy_xts = xts(select(spy_df,-c(\"date\")), \n",
    "             order.by = as.POSIXct(strptime(spy_df$date,\"%m/%d/%y\")))"
   ]
  },
  {
   "cell_type": "code",
   "execution_count": null,
   "metadata": {},
   "outputs": [],
   "source": [
    "# ASSIGN THE FIRST ITEM IN spy_xts TO spy_start\n",
    "spy_start = index(spy_xts[1])\n",
    "spy_start = c(year(spy_start),month(spy_start))\n",
    "\n",
    "# ASSIGN THE LAST ITEM IN spy_xts TO spy_end\n",
    "spy_end = index(spy_xts[length(spy_xts[,'close'])])\n",
    "spy_end = c(year(spy_end), month(spy_end))\n",
    "\n",
    "# CREATE A TIME-SERIES OBJECT AND ASSIGN TO spy_ts\n",
    "spy_ts = ts(spy_xts, start = spy_start, end = spy_end, frequency = 365)"
   ]
  },
  {
   "cell_type": "code",
   "execution_count": null,
   "metadata": {
    "scrolled": false
   },
   "outputs": [],
   "source": [
    "# PLOT THE DAILY CLOSING PRICE\n",
    "autoplot(spy_ts[,\"close\"], xlab = \"Year\", ylab = \"Close Price\",\n",
    "         main = \"Daily Prices - SPDR S&P 500 ETF Trust (SPY)\")"
   ]
  },
  {
   "cell_type": "markdown",
   "metadata": {},
   "source": [
    "#### US Census Bureau - Total Construction Spending (TTLCON/TCS)\n",
    "\n",
    "The Value of Construction Put in Place Survey (VIP) provides monthly estimates of the total dollar value of construction work done in the U.S. The survey covers construction work done each month on new structures or improvements to existing structures for private and public sectors. Data estimates include the cost of labor and materials, cost of architectural and engineering work, overhead costs, interest and taxes paid during construction, and contractor's profits.  \n",
    "\n",
    "* https://fred.stlouisfed.org/series/TTLCON\n",
    "* https://www.census.gov/construction/c30/c30index.html"
   ]
  },
  {
   "cell_type": "code",
   "execution_count": null,
   "metadata": {},
   "outputs": [],
   "source": [
    "# READ THE .CSV FILE AS DATA FRAME\n",
    "tcs_df = read_csv(\"data/TTLCON.csv\")"
   ]
  },
  {
   "cell_type": "code",
   "execution_count": null,
   "metadata": {},
   "outputs": [],
   "source": [
    "# CREATE A NEW OBJECT, tcs_xts, CONVERT date IN tcs_df TO POSIXct TIME FORMAT AND ORDER BY TIME\n",
    "tcs_xts = xts(select(tcs_df,-c(\"DATE\")), \n",
    "             order.by = as.POSIXct(strptime(tcs_df$DATE,\"%Y-%d-%m\")))"
   ]
  },
  {
   "cell_type": "code",
   "execution_count": null,
   "metadata": {},
   "outputs": [],
   "source": [
    "# ASSIGN THE FIRST ITEM IN tcs_xts TO tcs_start\n",
    "tcs_start = index(tcs_xts[1])\n",
    "tcs_start = c(year(tcs_start),month(tcs_start))\n",
    "\n",
    "# ASSIGN THE LAST ITEM IN tcs_xts TO tcs_end\n",
    "tcs_end = index(tcs_xts[length(tcs_xts)])\n",
    "tcs_end = c(year(tcs_end), month(tcs_end))\n",
    "\n",
    "# CREATE A TIME-SERIES OBJECT AND ASSIGN TO tcs_ts\n",
    "tcs_ts = ts(tcs_xts[,\"TTLCON\"], start = tcs_start, end = tcs_end, frequency = 12)"
   ]
  },
  {
   "cell_type": "code",
   "execution_count": null,
   "metadata": {},
   "outputs": [],
   "source": [
    "# PLOT THE YEARLY TTLCON\n",
    "autoplot(tcs_ts, xlab = \"Year\", ylab = \"Millions of Dollars\",\n",
    "         main = \"US Census Bureau - Total Construction Spending (TTLCON)\")"
   ]
  },
  {
   "cell_type": "markdown",
   "metadata": {},
   "source": [
    "## Stationary and Non-Stationarity Time Series Data\n",
    "\n",
    "### Testing for Stationary on SPDR S&P 500 ETF (SPY)"
   ]
  },
  {
   "cell_type": "code",
   "execution_count": null,
   "metadata": {},
   "outputs": [],
   "source": [
    "# SPY Closing Price\n",
    "spy_close = spy_ts[,\"close\"]\n",
    "\n",
    "# PERFORM A TEST REGRESSION \n",
    "spy_adf = ur.df(spy_close, type = \"none\", selectlags = \"AIC\")\n",
    "summary(spy_adf)"
   ]
  },
  {
   "cell_type": "code",
   "execution_count": null,
   "metadata": {},
   "outputs": [],
   "source": [
    "# Difference SPY Closing Price\n",
    "spy_close_diff = diff(spy_close, lag = 1, differences = 1)\n",
    "\n",
    "# PERFORM A TEST REGRESSION \n",
    "spy_adf = ur.df(spy_close_diff, type = \"none\", selectlags = \"AIC\")\n",
    "summary(spy_adf)"
   ]
  },
  {
   "cell_type": "code",
   "execution_count": null,
   "metadata": {},
   "outputs": [],
   "source": [
    "# PLOT SPY Closing Price AND Difference SPY Closing Price\n",
    "autoplot(spy_close)\n",
    "autoplot(spy_close_diff)"
   ]
  },
  {
   "cell_type": "markdown",
   "metadata": {},
   "source": [
    "### Testing for Stationarity on US Total Construction Spending Data"
   ]
  },
  {
   "cell_type": "code",
   "execution_count": null,
   "metadata": {},
   "outputs": [],
   "source": [
    "# Total Construction Spending\n",
    "tscl_spending = tcs_ts[,\"TTLCON\"]\n",
    "\n",
    "# PERFORM A TEST REGRESSION \n",
    "tscl_spending_adf = ur.df(tscl_spending, type = \"none\", selectlags = \"AIC\")\n",
    "summary(tscl_spending_adf)"
   ]
  },
  {
   "cell_type": "code",
   "execution_count": null,
   "metadata": {},
   "outputs": [],
   "source": [
    "# Difference Total Construction Spending\n",
    "tscl_spending_diff = diff(tscl_spending, lag = 1, differences = 1)\n",
    "\n",
    "# PERFORM A TEST REGRESSION \n",
    "tscl_spending_adf = ur.df(tscl_spending_diff, type = \"none\", selectlags = \"AIC\")\n",
    "summary(tscl_spending_adf)"
   ]
  },
  {
   "cell_type": "code",
   "execution_count": null,
   "metadata": {},
   "outputs": [],
   "source": [
    "# PLOT Total Construction Spending AND Difference Total Construction Spending\n",
    "autoplot(tscl_spending)\n",
    "autoplot(tscl_spending_diff)"
   ]
  },
  {
   "cell_type": "markdown",
   "metadata": {},
   "source": [
    "## ARIMA\n",
    "\n",
    "### SPY 4-years Closing Daily Prices to Monthly Prices"
   ]
  },
  {
   "cell_type": "code",
   "execution_count": null,
   "metadata": {},
   "outputs": [],
   "source": [
    "# DAILY CLOSING PRICE FOR 10 YEARS\n",
    "spy_10yrs = spy_xts[\"2010-01-01/2020-06-26\"][,'close']\n",
    "# ASSIGN THE FIRST MONTH IN spy_10yrs TO spy_start\n",
    "spy_start = index(spy_10yrs[1])\n",
    "spy_start = c(year(spy_start),month(spy_start))\n",
    "# CREATE A TIME-SERIES OBJECT AND ASSIGN TO spy_10yrs_ts\n",
    "spy_10yrs_ts = ts(spy_10yrs, start = spy_start, frequency = 365)"
   ]
  },
  {
   "cell_type": "code",
   "execution_count": null,
   "metadata": {},
   "outputs": [],
   "source": [
    "# PLOT spy_10yrs_ts\n",
    "autoplot(spy_10yrs_ts)"
   ]
  },
  {
   "cell_type": "code",
   "execution_count": null,
   "metadata": {},
   "outputs": [],
   "source": [
    "# CLEAN spy_10yrs_ts BY OMITTING THE NA VALUES \n",
    "spy_diff_ts = na.omit(diff(spy_10yrs_ts, lag = 1, differences = 1))"
   ]
  },
  {
   "cell_type": "code",
   "execution_count": null,
   "metadata": {},
   "outputs": [],
   "source": [
    "# PLOT SPY CLOSING PRICE DIFFERENCE BY TIME\n",
    "autoplot(spy_diff_ts,\n",
    "         xlab = \"Years\",\n",
    "         ylab = \"SPY Closing Prices Difference\",\n",
    "         main = \"SPY 10-Years Closing Prices Difference\")"
   ]
  },
  {
   "cell_type": "code",
   "execution_count": null,
   "metadata": {},
   "outputs": [],
   "source": [
    "# PERFORM A TEST REGRESSION\n",
    "spy_adf = ur.df(spy_diff_ts, type = \"none\", selectlags = \"AIC\")\n",
    "summary(spy_adf)"
   ]
  },
  {
   "cell_type": "markdown",
   "metadata": {},
   "source": [
    "### Autocorrelation and Cross-Correlation Function"
   ]
  },
  {
   "cell_type": "code",
   "execution_count": null,
   "metadata": {
    "scrolled": false
   },
   "outputs": [],
   "source": [
    "# PLOT spy_diff_ts WITH ESTIMATES OF THE AUTOCORRELATION FUNCTION\n",
    "ggAcf(x = spy_diff_ts, lag.max = 10) + theme_bw()"
   ]
  },
  {
   "cell_type": "markdown",
   "metadata": {},
   "source": [
    "### Partial Autocorrelation and Cross-Correlation Function"
   ]
  },
  {
   "cell_type": "code",
   "execution_count": null,
   "metadata": {
    "scrolled": true
   },
   "outputs": [],
   "source": [
    "# PLOT spy_diff_ts WITH ESTIMATES OF THE PARTIAL AUTOCORRELATION FUNCTION\n",
    "ggPacf(x = spy_diff_ts, lag.max = 10) + theme_bw()"
   ]
  },
  {
   "cell_type": "markdown",
   "metadata": {},
   "source": [
    "## Fitting the ARIMA Model to SPY Monthly Closing Difference Data"
   ]
  },
  {
   "cell_type": "code",
   "execution_count": null,
   "metadata": {
    "scrolled": true
   },
   "outputs": [],
   "source": [
    "# FIT AN ARIMA MODEL TO spy_diff_ts \n",
    "spy_model_01 = Arima(spy_diff_ts, order = c(1, 0, 1))\n",
    "summary(spy_model_01)"
   ]
  },
  {
   "cell_type": "code",
   "execution_count": null,
   "metadata": {},
   "outputs": [],
   "source": [
    "# FIT AN ARIMA MODEL TO spy_diff_ts \n",
    "spy_model_02 = Arima(spy_diff_ts, order = c(1, 0, 2))\n",
    "summary(spy_model_02)"
   ]
  },
  {
   "cell_type": "code",
   "execution_count": null,
   "metadata": {},
   "outputs": [],
   "source": [
    "# FIT AN ARIMA MODEL TO spy_diff_ts \n",
    "spy_model_03 = Arima(spy_diff_ts, order = c(2, 0, 1))\n",
    "summary(spy_model_03)"
   ]
  },
  {
   "cell_type": "code",
   "execution_count": null,
   "metadata": {},
   "outputs": [],
   "source": [
    "# FIT AN ARIMA MODEL TO spy_diff_ts \n",
    "spy_model_04 = Arima(spy_diff_ts, order = c(2, 0, 2))\n",
    "summary(spy_model_04)"
   ]
  },
  {
   "cell_type": "markdown",
   "metadata": {},
   "source": [
    "## ARIMA Forecasting Plot and Auto ARIMA Function"
   ]
  },
  {
   "cell_type": "code",
   "execution_count": null,
   "metadata": {},
   "outputs": [],
   "source": [
    "# DAILY CLOSING PRICE FOR 10 YEARS\n",
    "spy_10yrs = spy_xts[\"2010-01-01/2020-06-26\"][,'close']\n",
    "# CONVERT TO A MONTHLY SERIES\n",
    "spy_10yrs = to.monthly(spy_10yrs)[,'spy_10yrs.Close']\n",
    "\n",
    "# ASSIGN THE FIRST MONTH IN spy_10yrs TO spy_start\n",
    "spy_start = index(spy_10yrs[1])\n",
    "spy_start = c(year(spy_start),month(spy_start))\n",
    "# ASSIGN THE LAST MONTH IN spy_10yrs TO spy_end\n",
    "spy_end = index(spy_10yrs[length(spy_10yrs)])\n",
    "spy_end = c(year(spy_end),month(spy_end))\n",
    "\n",
    "# CREATE A TIME-SERIES OBJECT AND ASSIGN TO spy_10yrs_ts\n",
    "spy_10yrs_ts = ts(spy_10yrs, start = spy_start, end = spy_end, frequency = 12)"
   ]
  },
  {
   "cell_type": "code",
   "execution_count": null,
   "metadata": {},
   "outputs": [],
   "source": [
    "# PLOT spy_10yrs_ts\n",
    "autoplot(spy_10yrs_ts)"
   ]
  },
  {
   "cell_type": "code",
   "execution_count": null,
   "metadata": {},
   "outputs": [],
   "source": [
    "# FIT BEST ARIMA MODEL TO spy_10yrs_ts\n",
    "spy_model = auto.arima(spy_10yrs_ts)"
   ]
  },
  {
   "cell_type": "code",
   "execution_count": null,
   "metadata": {},
   "outputs": [],
   "source": [
    "# PERFORM AUTOMATIC TIME SERIES FORECASTING\n",
    "spy_predict = forecast(spy_model, h = 7)"
   ]
  },
  {
   "cell_type": "code",
   "execution_count": null,
   "metadata": {},
   "outputs": [],
   "source": [
    "# SUMMARY OF THE FORECASTING RESULT\n",
    "summary(spy_predict)"
   ]
  },
  {
   "cell_type": "code",
   "execution_count": null,
   "metadata": {
    "scrolled": false
   },
   "outputs": [],
   "source": [
    "# PLOT THE FORECASTING RESULT\n",
    "autoplot(spy_predict, includes = 20)"
   ]
  },
  {
   "cell_type": "markdown",
   "metadata": {},
   "source": [
    "### US Total Construction Spending Data "
   ]
  },
  {
   "cell_type": "markdown",
   "metadata": {},
   "source": [
    "### Autocorrelation and Cross-Correlation Function"
   ]
  },
  {
   "cell_type": "code",
   "execution_count": null,
   "metadata": {},
   "outputs": [],
   "source": [
    "# PLOT tscl_spending_diff WITH ESTIMATES OF THE AUTOCORRELATION FUNCTION\n",
    "ggAcf(x = tscl_spending_diff, lag.max = 10) + theme_bw()"
   ]
  },
  {
   "cell_type": "markdown",
   "metadata": {},
   "source": [
    "### Partial Autocorrelation and Cross-Correlation Function"
   ]
  },
  {
   "cell_type": "code",
   "execution_count": null,
   "metadata": {},
   "outputs": [],
   "source": [
    "# PLOT tscl_spending_diff WITH ESTIMATES OF THE PARTIAL CORRELATION FUNCTION\n",
    "ggPacf(x = tscl_spending_diff, lag.max = 10) + theme_bw()"
   ]
  },
  {
   "cell_type": "markdown",
   "metadata": {},
   "source": [
    "## Fitting the ARIMA Model to SPY Monthly Closing Difference Data"
   ]
  },
  {
   "cell_type": "code",
   "execution_count": null,
   "metadata": {},
   "outputs": [],
   "source": [
    "# FIT AN ARIMA MODEL TO tscl_spending_diff\n",
    "tscl_model_01 = Arima(tscl_spending_diff, order = c(1, 0, 1))\n",
    "summary(tscl_model_01)"
   ]
  },
  {
   "cell_type": "code",
   "execution_count": null,
   "metadata": {},
   "outputs": [],
   "source": [
    "# FIT AN ARIMA MODEL TO tscl_spending_diff\n",
    "tscl_model_02 = Arima(tscl_spending_diff, order = c(1, 0, 2))\n",
    "summary(tscl_model_02)"
   ]
  },
  {
   "cell_type": "code",
   "execution_count": null,
   "metadata": {},
   "outputs": [],
   "source": [
    "# FIT AN ARIMA MODEL TO tscl_spending_diff\n",
    "tscl_model_03 = Arima(tscl_spending_diff, order = c(2, 0, 1))\n",
    "summary(tscl_model_01)"
   ]
  },
  {
   "cell_type": "code",
   "execution_count": null,
   "metadata": {},
   "outputs": [],
   "source": [
    "# FIT AN ARIMA MODEL TO tscl_spending_diff\n",
    "tscl_model_04 = Arima(tscl_spending_diff, order = c(2, 0, 2))\n",
    "summary(tscl_model_04)"
   ]
  },
  {
   "cell_type": "markdown",
   "metadata": {},
   "source": [
    "## ARIMA Forecasting Plot and Auto ARIMA Function"
   ]
  },
  {
   "cell_type": "code",
   "execution_count": null,
   "metadata": {},
   "outputs": [],
   "source": [
    "# DAILY CLOSING PRICE FOR 10 YEARS\n",
    "tcs_10yrs = tcs_xts[\"2010-01-01/2020-01-04\"][,'TTLCON']\n",
    "\n",
    "# ASSIGN THE FIRST MONTH IN tcs_10yrs TO tcs_start\n",
    "tcs_start = index(tcs_10yrs[1])\n",
    "tcs_start = c(year(tcs_start),month(tcs_start))\n",
    "# ASSIGN THE LAST MONTH IN tcs_10yrs TO tcs_end\n",
    "tcs_end = index(tcs_10yrs[length(tcs_10yrs)])\n",
    "tcs_end = c(year(tcs_end),month(tcs_end))\n",
    "\n",
    "# CREATE A TIME-SERIES OBJECT AND ASSIGN TO tcs_10yrs_ts\n",
    "tcs_10yrs_ts = ts(tcs_10yrs, start = tcs_start, end = tcs_end, frequency = 12)"
   ]
  },
  {
   "cell_type": "code",
   "execution_count": null,
   "metadata": {},
   "outputs": [],
   "source": [
    "# PLOT tcs_10yrs_ts\n",
    "autoplot(tcs_10yrs_ts)"
   ]
  },
  {
   "cell_type": "code",
   "execution_count": null,
   "metadata": {},
   "outputs": [],
   "source": [
    "# FIT BEST ARIMA MODEL TO tcs_10yrs_ts\n",
    "tcs_model = auto.arima(tcs_10yrs_ts)"
   ]
  },
  {
   "cell_type": "code",
   "execution_count": null,
   "metadata": {},
   "outputs": [],
   "source": [
    "# PERFORM AUTOMATIC TIME SERIES FORECASTING\n",
    "tcs_predict = forecast(tcs_model, h = 12)"
   ]
  },
  {
   "cell_type": "code",
   "execution_count": null,
   "metadata": {},
   "outputs": [],
   "source": [
    "# SUMMARY OF THE FORECASTING RESULTS\n",
    "summary(tcs_predict)"
   ]
  },
  {
   "cell_type": "code",
   "execution_count": null,
   "metadata": {
    "scrolled": false
   },
   "outputs": [],
   "source": [
    "# PLOT THE FORECASTING RESULTS\n",
    "autoplot(tcs_predict, includes = 50)"
   ]
  },
  {
   "cell_type": "markdown",
   "metadata": {},
   "source": [
    "## Summary\n",
    "\n",
    "On this lab we learned how to use analytical methods to analyze time series data and build forecasting models. We analyzed financial data in different forms and learned how to identify if a time series is stationary or not and how to transform nonstationary data to stationary to perform analysis. Some of the topics covered on this lab include testing for stationary, autocorrelation and cross-correlation function, and ARIMA forecasting model."
   ]
  },
  {
   "cell_type": "markdown",
   "metadata": {},
   "source": [
    "<a href=\"https://www.coursera.org/learn/applying-data-analytics-business-in-finance\"> <img src=\"./resources/illinois_banner.png\" alt=\"applying-data-analytics-business-in-finance\"/> </a>"
   ]
  }
 ],
 "metadata": {
  "kernelspec": {
   "display_name": "R",
   "language": "R",
   "name": "ir"
  },
  "language_info": {
   "codemirror_mode": "r",
   "file_extension": ".r",
   "mimetype": "text/x-r-source",
   "name": "R",
   "pygments_lexer": "r",
   "version": "3.6.3"
  }
 },
 "nbformat": 4,
 "nbformat_minor": 4
}
