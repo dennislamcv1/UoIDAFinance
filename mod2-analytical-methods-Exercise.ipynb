{
 "cells": [
  {
   "cell_type": "markdown",
   "metadata": {
    "deletable": false,
    "editable": false
   },
   "source": [
    "<a href=\"https://www.coursera.org/learn/applying-data-analytics-business-in-finance\"> <img src=\"./resources/illinois_banner.png\" alt=\"applying-data-analytics-business-in-finance\"/> </a>"
   ]
  },
  {
   "cell_type": "markdown",
   "metadata": {
    "deletable": false,
    "editable": false
   },
   "source": [
    "# Performance Measures and Holt-Winters Model \n",
    "\n",
    "*This lab was developed by: <br> Jose Luis Rodriguez, Director of Margolis Market Information Lab, R.C. Evans Innovation Fellow at Gies College of Business\n",
    "<br> Nam Hoang Nguyen, Master of Science in Finance, iMBA Teaching Assistant at Gies College of Business*\n",
    "\n",
    "\n",
    "On this lab we will introduce analytical methods to analyze time series data to build forecasting models. We will analyze financial data that is usually in raw format and transform it to a time series dataset. Topics include forecasting performance measures, moving average, exponential smoothing methods, and the Holt-Winters method.\n",
    "\n",
    "* Understand commonly used performance measures. Learn how to calculate and interpret the performance measures.\n",
    "* Develop a basic understanding of moving averages and exponential smoothing. Identify three types of exponential smoothing methods and their implementation.\n",
    "* Develop an understanding about autoregression, knowing its role in analyzing time series data and performing the analysis.\n",
    "\n",
    "### Packages and Configurations\n",
    "\n",
    "* tidyverse: https://www.tidyverse.org/\n",
    "* lubridate: https://lubridate.tidyverse.org/\n",
    "* forecast: https://cran.r-project.org/web/packages/forecast/\n",
    "* xts: https://cran.r-project.org/web/packages/xts"
   ]
  },
  {
   "cell_type": "code",
   "execution_count": null,
   "metadata": {
    "deletable": false,
    "editable": false
   },
   "outputs": [],
   "source": [
    "# Suppres Package Warning\n",
    "quietly <- suppressPackageStartupMessages\n",
    "\n",
    "# Disable scientific notation\n",
    "options(scipen = 9999)\n",
    "\n",
    "# Change chart dimension\n",
    "options(repr.plot.width=12, repr.plot.height=7)\n",
    "\n",
    "# Load package suppress warning\n",
    "quietly(library(xts))\n",
    "quietly(library(tidyverse))\n",
    "quietly(library(lubridate))\n",
    "quietly(library(forecast))"
   ]
  },
  {
   "cell_type": "markdown",
   "metadata": {
    "deletable": false,
    "editable": false
   },
   "source": [
    "## 1. Data Import and Exploration"
   ]
  },
  {
   "cell_type": "code",
   "execution_count": null,
   "metadata": {},
   "outputs": [],
   "source": [
    "# Read the kraken_clean.csv file a kraken_df\n",
    "kraken_df = read_csv(\"data/kraken_clean.csv\")"
   ]
  },
  {
   "cell_type": "code",
   "execution_count": null,
   "metadata": {},
   "outputs": [],
   "source": [
    "# Inspect the first few rows of the DataFrame\n",
    "head(kraken_df)"
   ]
  },
  {
   "cell_type": "code",
   "execution_count": null,
   "metadata": {},
   "outputs": [],
   "source": [
    "# Subset a DataFrame of XBT crypto\n",
    "xbt_df = kraken_df[kraken_df$crypto == \"XBT\",]"
   ]
  },
  {
   "cell_type": "code",
   "execution_count": null,
   "metadata": {},
   "outputs": [],
   "source": [
    "# Convert xbt_df to a time series by: \n",
    "# First delete unnecessary column (crypto, datetime, date and time)\n",
    "# Second convert index to POSIXct time format and order by time\n",
    "\n",
    "xbt_xts = xts(select(xbt_df,-c(\"crypto\",\"datetime\",\"date\",\"time\")), \n",
    "             order.by = as.POSIXct(strptime(xbt_df$date,\"%Y-%m-%d\")))"
   ]
  },
  {
   "cell_type": "code",
   "execution_count": null,
   "metadata": {},
   "outputs": [],
   "source": [
    "# Get XBT daily price\n",
    "daily_price = xbt_xts[,'price']\n",
    "\n",
    "# Get XBT weekly price by taking mean price of each week\n",
    "weekly_price = apply.weekly(daily_price, mean)\n",
    "\n",
    "# Get XBT monthly price by taking mean price of each month\n",
    "monthly_price = apply.monthly(daily_price, mean)\n",
    "\n",
    "# Get XBT quarterly price by taking mean price of each quarter\n",
    "quarterly_price = apply.quarterly(daily_price, mean)"
   ]
  },
  {
   "cell_type": "markdown",
   "metadata": {
    "deletable": false,
    "editable": false
   },
   "source": [
    "## 2. Forecasting method\n",
    "\n",
    "To start forecasting we need to make a couple of changes to the target variable (price) from the xbt_ts timeseries dataset.\n",
    "\n",
    "The R forecast packages requires a `ts` timeseries class object to make predictions. To forecast Bitcoin prices we first create a **variable with prices**, **extract the start year** and the **numeric day of the year** to create `xbt_start` the time of the first observation."
   ]
  },
  {
   "cell_type": "markdown",
   "metadata": {
    "deletable": false,
    "editable": false
   },
   "source": [
    "### 2.1. Average Method - `meanf()` Function\n",
    "\n",
    "`meanf()` Returns forecasts and prediction intervals for an iid model applied to y.\n",
    "\n",
    "**Function Arguments**\n",
    "\n",
    "* **y**: a numeric vector or time series of class ts\n",
    "* **h**: Number of periods for forecasting\n",
    "* **level**: Confidence levels for prediction intervals.\n",
    "* **fan**: If TRUE, level is set to seq(51,99,by=3). This is suitable for fan plots.\n",
    "* **lambda**: Box-Cox transformation parameter. If lambda=\"auto\", then a transformation is automatically selected using BoxCox.lambda. The transformation is ignored if NULL. Otherwise, data transformed before model is estimated.\n",
    "* **biasadj**: Use adjusted back-transformed mean for Box-Cox transformations. If transformed data is used to produce forecasts and fitted values, a regular back transformation will result in median forecasts. If biasadj is TRUE, an adjustment will be made to produce mean forecasts and fitted values.\n",
    "* **bootstrap**: If TRUE, use a bootstrap method to compute prediction intervals. Otherwise, assume a normal distribution.\n",
    "* **npaths**: Number of bootstrapped sample paths to use if bootstrap==TRUE."
   ]
  },
  {
   "cell_type": "markdown",
   "metadata": {
    "deletable": false,
    "editable": false
   },
   "source": [
    "#### XBT Quarterly Prices Forecast - `meanf` Function"
   ]
  },
  {
   "cell_type": "code",
   "execution_count": null,
   "metadata": {},
   "outputs": [],
   "source": [
    "# Get the first observation in quarterly_price\n",
    "xbt_start = quarterly_price[1]\n",
    "\n",
    "# Select the year and quarter of the first observation\n",
    "xbt_start = c(year(xbt_start), quarter(xbt_start))"
   ]
  },
  {
   "cell_type": "code",
   "execution_count": null,
   "metadata": {
    "scrolled": false
   },
   "outputs": [],
   "source": [
    "# Create a quarterly time series dataset\n",
    "# start date = xbt_start and frequency = 4\n",
    "\n",
    "quarterly_ts = ts(quarterly_price,\n",
    "                  start = xbt_start,\n",
    "                  frequency = 4)\n"
   ]
  },
  {
   "cell_type": "code",
   "execution_count": null,
   "metadata": {},
   "outputs": [],
   "source": [
    "# Average method \n",
    "# Forecast 2 periods into the future (h = 2) using meanf() function\n",
    "\n",
    "xbt.fcast = meanf(y = quarterly_ts, h = 2)\n",
    "\n",
    "# Plot the quarterly timeseries + forecast\n",
    "autoplot(xbt.fcast)\n"
   ]
  },
  {
   "cell_type": "markdown",
   "metadata": {
    "deletable": false,
    "editable": false
   },
   "source": [
    "Average method makes forecast by taking the average value of the series."
   ]
  },
  {
   "cell_type": "markdown",
   "metadata": {
    "deletable": false,
    "editable": false
   },
   "source": [
    "#### XBT Monthly Prices Forecast - `meanf` Function"
   ]
  },
  {
   "cell_type": "code",
   "execution_count": null,
   "metadata": {},
   "outputs": [],
   "source": [
    "# Get the first observation in monthly_price\n",
    "xbt_start = monthly_price[1]\n",
    "\n",
    "# Get year and month of the first observation\n",
    "xbt_start = c(year(xbt_start),month(xbt_start))\n",
    "\n",
    "# Get the last observation in monthly_price\n",
    "xbt_end = monthly_price[length(monthly_price)]\n",
    "\n",
    "# Get year and month of the last observation\n",
    "xbt_end = c(year(xbt_end), month(xbt_end))"
   ]
  },
  {
   "cell_type": "code",
   "execution_count": null,
   "metadata": {},
   "outputs": [],
   "source": [
    "# Create a monthly time series\n",
    "# start date = xbt_start, end date = xbt_end and frequency = 4\n",
    "\n",
    "monthly_ts =  ts(monthly_price,\n",
    "                 start = xbt_start,\n",
    "                 end = xbt_end,\n",
    "                 frequency = 12)"
   ]
  },
  {
   "cell_type": "code",
   "execution_count": null,
   "metadata": {},
   "outputs": [],
   "source": [
    "# Average method: Forecast 3 periods into the future (h = 3)\n",
    "xbt.fcast = meanf(y = monthly_ts, h = 3)"
   ]
  },
  {
   "cell_type": "code",
   "execution_count": null,
   "metadata": {},
   "outputs": [],
   "source": [
    "# Print out forecasted results\n",
    "xbt.fcast"
   ]
  },
  {
   "cell_type": "code",
   "execution_count": null,
   "metadata": {},
   "outputs": [],
   "source": [
    "# Plot the monthly timeseries + forecast\n",
    "autoplot(xbt.fcast)"
   ]
  },
  {
   "cell_type": "markdown",
   "metadata": {
    "deletable": false,
    "editable": false
   },
   "source": [
    "The monthly timeseries are less smooth than the quarterly timeseries as expected."
   ]
  },
  {
   "cell_type": "markdown",
   "metadata": {
    "deletable": false,
    "editable": false
   },
   "source": [
    "### 2.2. Naive Method and Random Walk - `naive` Function\n",
    "\n",
    "**Description**\n",
    "`naive()` is simply a wrapper to rwf() for simplicity. `rwf()` returns forecasts and prediction intervals for a *random walk* with drift model applied to y. This is equivalent to an `ARIMA(0,1,0)` model with an optional drift coefficient.\n",
    "\n",
    "`snaive()` returns forecasts and prediction intervals from an `ARIMA(0,0,0)(0,1,0)m` model where `m` is the seasonal period.\n",
    "\n",
    "**Function Arguments**\n",
    "\n",
    "* **y**: a numeric vector or time series of class ts\n",
    "* **h**: Number of periods for forecasting\n",
    "* **drift**: Logical flag. If TRUE, fits a random walk with drift model.\n",
    "* **level**: Confidence levels for prediction intervals.\n",
    "* **fan**: If TRUE, level is set to seq(51,99,by=3). This is suitable for fan plots.\n",
    "* **lambda**: Box-Cox transformation parameter. If lambda=\"auto\", then a transformation is automatically selected using BoxCox.lambda. The transformation is ignored if NULL. Otherwise, data transformed before model is estimated.\n",
    "* **biasadj**: Use adjusted back-transformed mean for Box-Cox transformations. If transformed data is used to produce forecasts and fitted values, a regular back transformation will result in median forecasts. If biasadj is TRUE, an adjustment will be made to produce mean forecasts and fitted values."
   ]
  },
  {
   "cell_type": "markdown",
   "metadata": {
    "deletable": false,
    "editable": false
   },
   "source": [
    "For this exercise we continue to use the monthly price timeseries of XBT (monthly_ts)"
   ]
  },
  {
   "cell_type": "code",
   "execution_count": null,
   "metadata": {},
   "outputs": [],
   "source": [
    "# Naive method: Forecast 3 periods into the future (h = 3)\n",
    "xbt.fcast = naive(y = monthly_ts, h = 3)"
   ]
  },
  {
   "cell_type": "code",
   "execution_count": null,
   "metadata": {},
   "outputs": [],
   "source": [
    "xbt.fcast"
   ]
  },
  {
   "cell_type": "code",
   "execution_count": null,
   "metadata": {},
   "outputs": [],
   "source": [
    "# Plot the monthly timeseries + forecast\n",
    "autoplot(xbt.fcast)"
   ]
  },
  {
   "cell_type": "markdown",
   "metadata": {
    "deletable": false,
    "editable": false
   },
   "source": [
    "Naive method makes forecast by taking the most recent value."
   ]
  },
  {
   "cell_type": "markdown",
   "metadata": {
    "deletable": false,
    "editable": false
   },
   "source": [
    "### 2.3. Linear Regression - `lm` Function\n",
    "\n",
    "\n",
    "**Description**\n",
    "`lm()` is a function used to fit a linear regression\n",
    "\n",
    "**Function Arguments**\n",
    "\n",
    "* **formula**: an object of class \"formula\" to describe the model. Can take the form y~x where y is dependent variable and x is independent variable.\n",
    "* **data**: an optional data frame, list or environment (or object coercible by as.data.frame to a data frame) containing the variables in the model.\n",
    "* **subset**: an optional vector specifying a subset of observations to be used in the fitting process.\n",
    "* **weights**: an optional vector of weights to be used in the fitting process. Should be NULL or a numeric vector. If non-NULL, weighted least squares is used with weights (that is, minimizing sum(w*e^2)); otherwise ordinary least squares is used.\n",
    "* **na.action**: a function which indicates what should happen when the data contain NAs.\n",
    "* **method**: the method to be used for fitting.\n",
    "* ...\n",
    "\n",
    "\n",
    "For this exercise we want to use monthly data. So we are going to change the frequency of the data from daily to monthly. We need to create two temporary time series datasets and merge them to create a single `crypto_reg` dataset. The two cryptocurrencies will be used are ETH and XBT."
   ]
  },
  {
   "cell_type": "code",
   "execution_count": null,
   "metadata": {},
   "outputs": [],
   "source": [
    "# Extract prices of ETH from main dataset\n",
    "# convert to numeric type using as.numeric()\n",
    "eth_price = as.numeric(kraken_df[kraken_df$crypto == \"ETH\",]$price)\n",
    "\n",
    "# Extract datetime from main dataset\n",
    "eth_date = kraken_df[kraken_df$crypto == \"ETH\",]$datetime\n",
    "\n",
    "# Calculate z-score of ETH daily prices \n",
    "# This is standardization, to better compare with XBT prices\n",
    "eth_zscore = (eth_price - mean(eth_price)) / sd(eth_price)\n",
    "\n",
    "# Create index of POSIXct time format and order by time\n",
    "eth_dt = strptime(x = eth_date, format = \"%Y-%m-%d %H:%M:%S\")\n",
    "eth_zscore = xts(eth_zscore, order.by = as.POSIXct(eth_dt))"
   ]
  },
  {
   "cell_type": "code",
   "execution_count": null,
   "metadata": {},
   "outputs": [],
   "source": [
    "# Transform into monthly series by taking mean value of each month\n",
    "eth_zscore = apply.monthly(eth_zscore, mean)\n",
    "\n",
    "# Create ETH standardized monthly prices timeseries\n",
    "eth_start = c(year(eth_date[length(eth_date)]), month(eth_date[length(eth_date)]))\n",
    "\n",
    "eth_end = c(year(eth_date[1]), month(eth_date[1]))"
   ]
  },
  {
   "cell_type": "code",
   "execution_count": null,
   "metadata": {},
   "outputs": [],
   "source": [
    "eth_tmp =  ts(data = eth_zscore,\n",
    "              start = eth_start,\n",
    "              end = eth_end,\n",
    "              frequency = 12)"
   ]
  },
  {
   "cell_type": "code",
   "execution_count": null,
   "metadata": {},
   "outputs": [],
   "source": [
    "# Extract prices of XBT from main dataset and \n",
    "# convert to numeric type using as.numeric()\n",
    "xbt_price = as.numeric(xbt_xts$price)\n",
    "\n",
    "# Extract datetime from main dataset\n",
    "xbt_date = kraken_df[kraken_df$crypto == \"XBT\",]$datetime\n",
    "\n",
    "# Calculate z-score of XBT daily prices\n",
    "# This is standardization, to better compare with ETH prices\n",
    "xbt_zscore = (xbt_price - mean(xbt_price)) / sd(xbt_price)\n",
    "\n",
    "# Create index of POSIXct time format and order by time\n",
    "xbt_dt = strptime(xbt_date,\"%Y-%m-%d %H:%M:%S\")\n",
    "xbt_zscore = xts(xbt_zscore, order.by = as.POSIXct(xbt_dt))"
   ]
  },
  {
   "cell_type": "code",
   "execution_count": null,
   "metadata": {},
   "outputs": [],
   "source": [
    "# Transform into monthly series by taking mean value of each month\n",
    "xbt_zscore = apply.monthly(xbt_zscore, mean)\n",
    "\n",
    "# Create ETH standardized monthly prices timeseries\n",
    "xbt_end = c(year(xbt_date[1]), month(xbt_date[1]))\n",
    "\n",
    "xbt_start = c(year(xbt_date[length(xbt_date)]),\n",
    "              month(xbt_date[length(xbt_date)]))"
   ]
  },
  {
   "cell_type": "code",
   "execution_count": null,
   "metadata": {},
   "outputs": [],
   "source": [
    "xbt_tmp = ts(data = xbt_zscore,\n",
    "             start = xbt_start,\n",
    "             end = xbt_end,\n",
    "             frequency = 12)"
   ]
  },
  {
   "cell_type": "code",
   "execution_count": null,
   "metadata": {},
   "outputs": [],
   "source": [
    "# Data for linear regression\n",
    "crypto_reg = cbind(eth = eth_tmp, xbt = xbt_tmp)"
   ]
  },
  {
   "cell_type": "code",
   "execution_count": null,
   "metadata": {},
   "outputs": [],
   "source": [
    "# Plot the 2 timeseries\n",
    "autoplot(crypto_reg, xlab = \"Time\", ylab = \"Crypto\")"
   ]
  },
  {
   "cell_type": "code",
   "execution_count": null,
   "metadata": {},
   "outputs": [],
   "source": [
    "# Brief descriptions of the 2 timeseries\n",
    "summary(crypto_reg)"
   ]
  },
  {
   "cell_type": "code",
   "execution_count": null,
   "metadata": {},
   "outputs": [],
   "source": [
    "# Run a linear regression with xbt as dependent variables \n",
    "# and eth as independent variables\n",
    "\n",
    "fit <- lm(xbt ~ eth, data = crypto_reg)\n",
    "summary(fit)"
   ]
  },
  {
   "cell_type": "markdown",
   "metadata": {
    "deletable": false,
    "editable": false
   },
   "source": [
    "R-squared are very low, thus movement in ETH prices cannot explain movement in XBT prices very well."
   ]
  },
  {
   "cell_type": "code",
   "execution_count": null,
   "metadata": {},
   "outputs": [],
   "source": [
    "# Scatter plot of the 2 timeseries\n",
    "plot(xbt ~ eth, data = crypto_reg)\n",
    "\n",
    "# Plot regression line\n",
    "abline(fit)"
   ]
  },
  {
   "cell_type": "markdown",
   "metadata": {
    "deletable": false,
    "editable": false
   },
   "source": [
    "The regression line can somewhat correctly capture the general trend, but residual errors are very high."
   ]
  },
  {
   "cell_type": "markdown",
   "metadata": {
    "deletable": false,
    "editable": false
   },
   "source": [
    "## 2.2 Moving Averages - `ma` Function\n",
    "\n",
    "**Description**\n",
    "`ma()` computes simple average smoother of a given timeseries\n",
    "\n",
    "**Function Arguments**\n",
    "\n",
    "* **x**: univariate timeseries.\n",
    "* **order**: order of moving average smoother.\n",
    "* **centre**: If TRUE, then the moving average is centred for even orders.\n",
    "\n",
    "\n",
    "The Gold Spot price is quoted as US Dollars per Troy Ounce.  Gold Cross rates are available using XAU followed by 3-character ISO code of the cross currency."
   ]
  },
  {
   "cell_type": "code",
   "execution_count": null,
   "metadata": {},
   "outputs": [],
   "source": [
    "# Read XAU prices data file\n",
    "xau_df = read_csv(\"data/XAU_USD.csv\")"
   ]
  },
  {
   "cell_type": "code",
   "execution_count": null,
   "metadata": {},
   "outputs": [],
   "source": [
    "# Reformat date column as Date type Month/Date/Year\n",
    "xau_df$date = as.Date(xau_df$date, format = \"%m/%d/%y\")\n",
    "\n",
    "# Inspect the first few rows\n",
    "head(xau_df)"
   ]
  },
  {
   "cell_type": "code",
   "execution_count": null,
   "metadata": {},
   "outputs": [],
   "source": [
    "# Dimention (rows x columns) of the DataFrame\n",
    "dim_desc(xau_df)"
   ]
  },
  {
   "cell_type": "code",
   "execution_count": null,
   "metadata": {},
   "outputs": [],
   "source": [
    "# Create a Datetime index for the DataFrame\n",
    "xau_xts = xts(select(xau_df,-c(\"date\")),\n",
    "             order.by = as.POSIXct(strptime(xau_df$date,\"%Y-%m-%d\")))\n",
    "\n",
    "# Get year and month of first/last observation\n",
    "xau_start = c(year(xau_df$date[length(xau_df$date)]),\n",
    "              month(xau_df$date[length(xau_df$date)]))\n",
    "\n",
    "xau_end = c(year(xau_df$date[1]), month(xau_df$date[1]))"
   ]
  },
  {
   "cell_type": "code",
   "execution_count": null,
   "metadata": {},
   "outputs": [],
   "source": [
    "# Create XAU daily prices timeseries\n",
    "xau_ts = ts(data = xau_xts,\n",
    "            start = xau_start,\n",
    "            end = xau_end,\n",
    "            frequency = 365)"
   ]
  },
  {
   "cell_type": "code",
   "execution_count": null,
   "metadata": {},
   "outputs": [],
   "source": [
    "# Inspect the last few rows\n",
    "tail(xau_ts)"
   ]
  },
  {
   "cell_type": "code",
   "execution_count": null,
   "metadata": {},
   "outputs": [],
   "source": [
    "# Plot the timeseries\n",
    "autoplot(xau_ts, facets = FALSE) +\n",
    "    ggtitle(\"Gold (XAU) Daily Prices (OHLC)\") +\n",
    "    xlab(\"Period: Jan 1, 1975 to Jun 26, 2020\") +\n",
    "    ylab(\"USD\")"
   ]
  },
  {
   "cell_type": "code",
   "execution_count": null,
   "metadata": {},
   "outputs": [],
   "source": [
    "# Calculate Close prices moving average of order 250\n",
    "xau_250lags = ma(xau_ts[,'close'], 250)\n",
    "\n",
    "# Plot 250 lags moving average\n",
    "autoplot(xau_250lags) +\n",
    "    ggtitle(\"Gold (XAU) Close Prices - Moving Average (200 lags)\") +\n",
    "    xlab(\"Period: Jan 1, 1975 to Jun 26, 2020\") +\n",
    "    ylab(\"USD\")"
   ]
  },
  {
   "cell_type": "code",
   "execution_count": null,
   "metadata": {},
   "outputs": [],
   "source": [
    "# Calculate Close prices moving average of order 500\n",
    "xau_500lags = ma(xau_ts[,'close'], 500)\n",
    "\n",
    "# Plot 500 lags moving average\n",
    "autoplot(xau_500lags) +\n",
    "    ggtitle(\"Gold (XAU) Close Prices - Moving Average (500 lags)\") +\n",
    "    xlab(\"Period: Jan 1, 1975 to Jun 26, 2020\") +\n",
    "    ylab(\"USD\")"
   ]
  },
  {
   "cell_type": "markdown",
   "metadata": {
    "deletable": false,
    "editable": false
   },
   "source": [
    "Simple moving average of order 500 is smoother than of order 250 as expected"
   ]
  },
  {
   "cell_type": "code",
   "execution_count": null,
   "metadata": {},
   "outputs": [],
   "source": [
    "# Combind Close prices with the 2 moving average\n",
    "xau_ma = cbind(\"close\" = xau_ts[,'close'], \n",
    "               \"close_250ma\" = xau_250lags, \n",
    "               \"close_500ma\" = xau_500lags)\n",
    "\n",
    "# Plot Close prices with both moving average in the same plot\n",
    "autoplot(xau_ma, ylab = \"Gold Price (USD)\", xlab = \"Year\", facets = FALSE)"
   ]
  },
  {
   "cell_type": "markdown",
   "metadata": {
    "deletable": false,
    "editable": false
   },
   "source": [
    "Here we can see how moving average smoothens the timeseries: the larger order k is, the smoother the series will become."
   ]
  },
  {
   "cell_type": "markdown",
   "metadata": {
    "deletable": false,
    "editable": false
   },
   "source": [
    "## 2.3 Exponential Smoothing - `ses` function\n",
    "\n",
    "**Description**\n",
    "`ses()` returns simple exponential smoothing forecast and other information of a given timeseries\n",
    "\n",
    "**Function Arguments**\n",
    "\n",
    "* **y**: a numeric vector or time series of class ts.\n",
    "* **h**: number of periods for forecasting.\n",
    "* **level**: confidence level for prediction intervals.\n",
    "* **fan**: if TRUE, level is set to seq(51,99,by=3). This is suitable for fan plots.\n",
    "* **initial**: method used for selecting initial state values. If optimal, the initial values are optimized along with the smoothing parameters using ets. If simple, the initial values are set to values obtained using simple calculations on the first few observations.\n",
    "* **alpha**: value of smoothing parameter for the level. If NULL, it will be estimated.\n",
    "* **lambda**: Box-Cox transformation parameter. If lambda=\"auto\", then a transformation is automatically selected using BoxCox.lambda. The transformation is ignored if NULL. Otherwise, data transformed before model is estimated.\n",
    "* **damped**: if TRUE, use a damped trend.\n",
    "* **exponential**: if TRUE, an exponential trend is fitted. Otherwise, the trend is (locally) linear.\n",
    "* **beta**: value of smoothing parameter for the trend. If NULL, it will be estimated.\n",
    "* **phi**: value of damping parameter if damped=TRUE. If NULL, it will be estimated.\n",
    "* **seasonal**: type of seasonality in hw model. \"additive\" or \"multiplicative\"\n",
    "* **gamma**: value of smoothing parameter for the seasonal component. If NULL, it will be estimated."
   ]
  },
  {
   "cell_type": "code",
   "execution_count": null,
   "metadata": {},
   "outputs": [],
   "source": [
    "# Get monthly Close prices of XAU \n",
    "# from 2010-01-01 to 2020-06-26 (10 yrs) by taking average of each month\n",
    "xau_10 = apply.monthly(xau_xts[,'close'], mean)[\"2010-01-01/2020-06-26\"]\n",
    "\n",
    "# Get datetime index of first and last observation\n",
    "start_date = index(xau_10)[1]\n",
    "end_date = index(xau_10[length(xau_10)])\n",
    "\n",
    "# Get year and month of first and last observation\n",
    "xau_start = c(year(start_date), month(start_date))\n",
    "xau_end = c(year(end_date), month(end_date))"
   ]
  },
  {
   "cell_type": "code",
   "execution_count": null,
   "metadata": {},
   "outputs": [],
   "source": [
    "# Create a monthly Close prices timeseries\n",
    "xau_10yrs = ts(data = xau_10,\n",
    "               start = xau_start,\n",
    "               end = xau_end,\n",
    "               frequency = 12)"
   ]
  },
  {
   "cell_type": "code",
   "execution_count": null,
   "metadata": {},
   "outputs": [],
   "source": [
    "# Plot the 10 yrs monthly Close prices timeseries\n",
    "autoplot(xau_10yrs)"
   ]
  },
  {
   "cell_type": "markdown",
   "metadata": {
    "deletable": false,
    "editable": false
   },
   "source": [
    "This data does not have a clear trend or seasonality, so simple exponential smoothing method may perform well."
   ]
  },
  {
   "cell_type": "code",
   "execution_count": null,
   "metadata": {},
   "outputs": [],
   "source": [
    "# First exponential smoothing model: h = 6,\n",
    "# confidence level of 80% and 95%, alpha = 0.1\n",
    "\n",
    "xau_ses_01 = ses(y = xau_10yrs,\n",
    "                 h = 6,\n",
    "                 level = c(80, 95),\n",
    "                 alpha = 0.1)\n",
    "\n",
    "summary(xau_ses_01)"
   ]
  },
  {
   "cell_type": "code",
   "execution_count": null,
   "metadata": {},
   "outputs": [],
   "source": [
    "# Plot the first exponential smoothing model\n",
    "autoplot(xau_ses_01)"
   ]
  },
  {
   "cell_type": "code",
   "execution_count": null,
   "metadata": {},
   "outputs": [],
   "source": [
    "# Second exponential smoothing model: h = 6\n",
    "# confidence level of 80% and 95%, alpha = 0.5\n",
    "\n",
    "xau_ses_05 = ses(y = xau_10yrs,\n",
    "                 h = 6,\n",
    "                 level = c(80, 95),\n",
    "                 alpha = 0.5)\n",
    "\n",
    "summary(xau_ses_05)"
   ]
  },
  {
   "cell_type": "code",
   "execution_count": null,
   "metadata": {},
   "outputs": [],
   "source": [
    "# Plot the second exponential smoothing model\n",
    "autoplot(xau_ses_05)"
   ]
  },
  {
   "cell_type": "code",
   "execution_count": null,
   "metadata": {},
   "outputs": [],
   "source": [
    "# Third exponential smoothing model: h = 6\n",
    "# confidence level of 80% and 95%, alpha = 0.9\n",
    "\n",
    "xau_ses_09 = ses(y = xau_10yrs,\n",
    "                 h = 6,\n",
    "                 level = c(80, 95),\n",
    "                 alpha = 0.9)\n",
    "\n",
    "summary(xau_ses_09)"
   ]
  },
  {
   "cell_type": "code",
   "execution_count": null,
   "metadata": {},
   "outputs": [],
   "source": [
    "# Plot the third exponential smoothing model\n",
    "autoplot(xau_ses_09)"
   ]
  },
  {
   "cell_type": "code",
   "execution_count": null,
   "metadata": {},
   "outputs": [],
   "source": [
    "# Add the fitted values\n",
    "autoplot(xau_ses_09) + autolayer(fitted(xau_ses_09), series = \"Fitted\")"
   ]
  },
  {
   "cell_type": "markdown",
   "metadata": {
    "deletable": false,
    "editable": false
   },
   "source": [
    "Of the 3 models, exponential smoothing with alpha = 0.9 has the lowest RMSE. Thus this model is better than the other 2 models."
   ]
  },
  {
   "cell_type": "markdown",
   "metadata": {
    "deletable": false,
    "editable": false
   },
   "source": [
    "## 2.4. Holt method - `holt` function\n",
    "\n",
    "**Description**\n",
    "`holt()` returns forecast and other information of a given timeseries using Holt method\n",
    "\n",
    "**Function Arguments**\n",
    "\n",
    "* **y**: a numeric vector or time series of class ts.\n",
    "* **h**: number of periods for forecasting.\n",
    "* **level**: confidence level for prediction intervals.\n",
    "* **fan**: if TRUE, level is set to seq(51,99,by=3). This is suitable for fan plots.\n",
    "* **initial**: method used for selecting initial state values. If optimal, the initial values are optimized along with the smoothing parameters using ets. If simple, the initial values are set to values obtained using simple calculations on the first few observations.\n",
    "* **alpha**: value of smoothing parameter for the level. If NULL, it will be estimated.\n",
    "* **lambda**: Box-Cox transformation parameter. If lambda=\"auto\", then a transformation is automatically selected using BoxCox.lambda. The transformation is ignored if NULL. Otherwise, data transformed before model is estimated.\n",
    "* **damped**: if TRUE, use a damped trend.\n",
    "* **exponential**: if TRUE, an exponential trend is fitted. Otherwise, the trend is (locally) linear.\n",
    "* **beta**: value of smoothing parameter for the trend. If NULL, it will be estimated.\n",
    "* **phi**: value of damping parameter if damped=TRUE. If NULL, it will be estimated.\n",
    "* **seasonal**: type of seasonality in hw model. \"additive\" or \"multiplicative\"\n",
    "* **gamma**: value of smoothing parameter for the seasonal component. If NULL, it will be estimated."
   ]
  },
  {
   "cell_type": "code",
   "execution_count": null,
   "metadata": {},
   "outputs": [],
   "source": [
    "# Get monthly Close prices of XAU\n",
    "# from 2016-01-01 to 2020-06-26 (5 yrs) by taking average of each month\n",
    "xau_05 = apply.monthly(xau_xts[,'close'], mean)[\"2016-01-01/2020-06-26\"]\n",
    "\n",
    "# Get datetime index of first and last observation\n",
    "start_date = index(xau_05)[1]\n",
    "end_date = index(xau_05[length(xau_05)])\n",
    "\n",
    "# Get year and month of first and last observation\n",
    "xau_start = c(year(start_date), month(start_date))\n",
    "xau_end = c(year(end_date), month(end_date))\n"
   ]
  },
  {
   "cell_type": "code",
   "execution_count": null,
   "metadata": {},
   "outputs": [],
   "source": [
    "# Create 5 years monthly Close prices timeseries of XAU\n",
    "xau_5yrs = ts(data = xau_05,\n",
    "              start = xau_start,\n",
    "              end = xau_end,\n",
    "              frequency = 12)"
   ]
  },
  {
   "cell_type": "code",
   "execution_count": null,
   "metadata": {},
   "outputs": [],
   "source": [
    "# Plot the timeseries\n",
    "autoplot(xau_5yrs)"
   ]
  },
  {
   "cell_type": "markdown",
   "metadata": {
    "deletable": false,
    "editable": false
   },
   "source": [
    "This data clearly has an upward trend, so simple exponential smoothing does not seem to be a good choice. Holt method works well with data with trend."
   ]
  },
  {
   "cell_type": "code",
   "execution_count": null,
   "metadata": {},
   "outputs": [],
   "source": [
    "# Holt method with h = 6\n",
    "holt_06 = holt(xau_5yrs, h = 6)\n",
    "\n",
    "summary(holt_06)"
   ]
  },
  {
   "cell_type": "code",
   "execution_count": null,
   "metadata": {},
   "outputs": [],
   "source": [
    "# Plot the model and the fitted values\n",
    "autoplot(holt_06) + autolayer(fitted(holt_06), series = \"Fitted\")"
   ]
  },
  {
   "cell_type": "markdown",
   "metadata": {
    "deletable": false,
    "editable": false
   },
   "source": [
    "Holt method tends to overestimate the trend. Damped Holt method is introduced to damp the trend using parameter phi."
   ]
  },
  {
   "cell_type": "code",
   "execution_count": null,
   "metadata": {},
   "outputs": [],
   "source": [
    "# Damped Holt method with phi = 0.9 and h = 6\n",
    "\n",
    "holt_damped = holt(xau_5yrs,\n",
    "                   damped = TRUE,\n",
    "                   phi = 0.9,\n",
    "                   h = 6)\n",
    "\n",
    "summary(holt_damped)"
   ]
  },
  {
   "cell_type": "markdown",
   "metadata": {
    "deletable": false,
    "editable": false
   },
   "source": [
    "We can see that Damped Holt method with phi = 0.9 the model has a lower RMSE. Thus this is a better model."
   ]
  },
  {
   "cell_type": "code",
   "execution_count": null,
   "metadata": {
    "scrolled": false
   },
   "outputs": [],
   "source": [
    "# PLot the 5 years timeseries, Holt method and Damped Holt method\n",
    "autoplot(xau_5yrs) +\n",
    "    autolayer(holt_06, series = \"Holt's Method\", PI = FALSE) + \n",
    "    autolayer(holt_damped, series = \"Damped Holt's Method\", PI = FALSE) +\n",
    "    ggtitle(\"Gold (XAU) Monthly Prices Forecasts From Holt's Method\") + \n",
    "    guides(colour = guide_legend(title=\"Forecast\"))"
   ]
  },
  {
   "cell_type": "markdown",
   "metadata": {
    "deletable": false,
    "editable": false
   },
   "source": [
    "Damped Holt method reduce overestimation of trend."
   ]
  },
  {
   "cell_type": "markdown",
   "metadata": {
    "deletable": false,
    "editable": false
   },
   "source": [
    "## 2.5. Holt-Winters method - `hw` function\n",
    "\n",
    "**Description**\n",
    "`hw()` returns forecast and other information of a given timeseries using Holt-Winters method. Holt-Winters method introduce seasonality into the model (as compared to Holt method).\n",
    "\n",
    "**Function Arguments**\n",
    "\n",
    "* **y**: a numeric vector or time series of class ts.\n",
    "* **h**: number of periods for forecasting.\n",
    "* **level**: confidence level for prediction intervals.\n",
    "* **fan**: if TRUE, level is set to seq(51,99,by=3). This is suitable for fan plots.\n",
    "* **initial**: method used for selecting initial state values. If optimal, the initial values are optimized along with the smoothing parameters using ets. If simple, the initial values are set to values obtained using simple calculations on the first few observations.\n",
    "* **alpha**: value of smoothing parameter for the level. If NULL, it will be estimated.\n",
    "* **lambda**: Box-Cox transformation parameter. If lambda=\"auto\", then a transformation is automatically selected using BoxCox.lambda. The transformation is ignored if NULL. Otherwise, data transformed before model is estimated.\n",
    "* **damped**: if TRUE, use a damped trend.\n",
    "* **exponential**: if TRUE, an exponential trend is fitted. Otherwise, the trend is (locally) linear.\n",
    "* **beta**: value of smoothing parameter for the trend. If NULL, it will be estimated.\n",
    "* **phi**: value of damping parameter if damped=TRUE. If NULL, it will be estimated.\n",
    "* **seasonal**: type of seasonality in hw model. \"additive\" or \"multiplicative\"\n",
    "* **gamma**: value of smoothing parameter for the seasonal component. If NULL, it will be estimated."
   ]
  },
  {
   "cell_type": "code",
   "execution_count": null,
   "metadata": {},
   "outputs": [],
   "source": [
    "# Get monthly Close prices of XAU\n",
    "# from 2017-01-01 to 2020-06-26 (4 yrs) by taking average of each months \n",
    "xau_04 = apply.monthly(xau_xts[,'close'], mean)[\"2017-01-01/2020-01-01\"]\n",
    "\n",
    "# Get datetime index of first and last observaion\n",
    "start_date = index(xau_04)[1]\n",
    "end_date = index(xau_04[length(xau_04)])\n",
    "\n",
    "# Gest year and month of first and last observation\n",
    "xau_start = c(year(start_date), month(start_date))\n",
    "xau_end = c(year(end_date), month(end_date))\n"
   ]
  },
  {
   "cell_type": "code",
   "execution_count": null,
   "metadata": {},
   "outputs": [],
   "source": [
    "# Create 4 years monthly Close prices timeseries\n",
    "xau_4yrs = ts(data = xau_04,\n",
    "              start = xau_start,\n",
    "              end = xau_end,\n",
    "              frequency = 12)"
   ]
  },
  {
   "cell_type": "code",
   "execution_count": null,
   "metadata": {},
   "outputs": [],
   "source": [
    "# Additive Holt-Winter method\n",
    "xau_hw01 = hw(xau_4yrs, seasonal = \"additive\")\n",
    "\n",
    "# Multiplicative Holt-Winter method\n",
    "xau_hw02 = hw(xau_4yrs, seasonal = \"multiplicative\")"
   ]
  },
  {
   "cell_type": "code",
   "execution_count": null,
   "metadata": {},
   "outputs": [],
   "source": [
    "# Plot the timeseries, Holt-Winter additive and multiplicative method\n",
    "autoplot(xau_4yrs) +\n",
    "    autolayer(xau_hw01, series = \"Holt-Winter's Additive Forecast\", PI = FALSE) + \n",
    "    autolayer(xau_hw02, series = \"Holt-Winter's Multiplicative Forecast\", PI = FALSE) +\n",
    "    ggtitle(\"Gold (XAU) Monthly Prices Forecasts From Holt-Winter's Model\") + \n",
    "    guides(colour = guide_legend(title=\"Forecast\"))"
   ]
  },
  {
   "cell_type": "markdown",
   "metadata": {
    "deletable": false,
    "editable": false
   },
   "source": [
    "Holt-Winters additive method is useful when seasonal variation is constant, while multiplicative method is usefull when seasonal variation changes in proportion to the level of the timeseries. It's hard to see which model is better using the graph, so we need to look in to RMSE."
   ]
  },
  {
   "cell_type": "code",
   "execution_count": null,
   "metadata": {},
   "outputs": [],
   "source": [
    "# Summary of additive method\n",
    "print(summary(xau_hw01))\n",
    "\n",
    "# Summary of multiplicative method\n",
    "print(summary(xau_hw02))"
   ]
  },
  {
   "cell_type": "markdown",
   "metadata": {
    "deletable": false,
    "editable": false
   },
   "source": [
    "Holt-Winters additive method has a much lower RMSE, thus this is the better model."
   ]
  },
  {
   "cell_type": "markdown",
   "metadata": {
    "deletable": false,
    "editable": false
   },
   "source": [
    "## 2.5. Autoregression - `arima` function\n",
    "\n",
    "WTI CL1 represents the price of the 1st future (that closest to expiration at any given point in time) subject to certain rules on when they change to the next contract.\n",
    "\n",
    "NYMEX WTI Crude Oil futures (CL), the world’s most liquid crude oil contract. When traders need the current oil price, they check the WTI Crude Oil price. WTI (West Texas Intermediate, a US light sweet crude oil blend) futures provide direct crude oil exposure and are the most efficient way to trade oil after a sharp rise in US crude oil production.\n",
    "\n",
    "* https://www.cmegroup.com/trading/energy/crude-oil/light-sweet-crude.html\n",
    "\n",
    "**NOTE:** WTI CL1 traded negative on Monday, April 04 2020"
   ]
  },
  {
   "cell_type": "markdown",
   "metadata": {
    "deletable": false,
    "editable": false
   },
   "source": [
    "**Description**\n",
    "`arima()` fits an ARIMA model to a univariate time series. We will learn more detail about ARIMA model in module 3. Here we only need fit an Autoregressive model. An AR(p) model is an ARIMA(p,0,0) model.\n",
    "\n",
    "**Function Arguments**\n",
    "arima(x, order = c(p,0,0))\n",
    "* **x**: a numeric vector or time series of class ts.\n",
    "* **order**: order of ARIMA model. p is the order of Autoregressive model."
   ]
  },
  {
   "cell_type": "code",
   "execution_count": null,
   "metadata": {},
   "outputs": [],
   "source": [
    "# Read the dataset\n",
    "wti_df = read_csv(\"data/WTI_CL1.csv\")"
   ]
  },
  {
   "cell_type": "code",
   "execution_count": null,
   "metadata": {},
   "outputs": [],
   "source": [
    "# Convert the column date to Date format Month/Date/Year\n",
    "wti_df$date = as.Date(wti_df$date, format = \"%m/%d/%y\")\n",
    "head(wti_df)"
   ]
  },
  {
   "cell_type": "code",
   "execution_count": null,
   "metadata": {},
   "outputs": [],
   "source": [
    "# Dimention of the DataFrame (rows x columns)\n",
    "dim_desc(wti_df)"
   ]
  },
  {
   "cell_type": "code",
   "execution_count": null,
   "metadata": {},
   "outputs": [],
   "source": [
    "# Create a Datetime index for the DataFrame\n",
    "wti_xts = xts(select(wti_df,-c(\"date\")),\n",
    "              order.by = as.POSIXct(strptime(wti_df$date,\"%Y-%m-%d\")))"
   ]
  },
  {
   "cell_type": "code",
   "execution_count": null,
   "metadata": {},
   "outputs": [],
   "source": [
    "# Get monthly Close prices of WTI\n",
    "# from 2016-01-01 to 2020-06-26 (5 yrs) by taking average of each month \n",
    "wti_05 = apply.monthly(wti_xts[,'close'], mean)[\"2016-01-01/2020-06-26\"]\n",
    "\n",
    "# Get datetime index of first and last observation\n",
    "start_date = index(wti_05)[1]\n",
    "end_date = index(wti_05[length(wti_05)])\n",
    "\n",
    "# Get year and month of first and last observation\n",
    "wti_start = c(year(start_date), month(start_date))\n",
    "wti_end = c(year(end_date), month(end_date))"
   ]
  },
  {
   "cell_type": "code",
   "execution_count": null,
   "metadata": {},
   "outputs": [],
   "source": [
    "# Creat 5 years monthly Close prices time series of WTI\n",
    "wti_5yrs = ts(data = wti_05,\n",
    "              start = wti_start,\n",
    "              end = wti_end,\n",
    "              frequency = 12)"
   ]
  },
  {
   "cell_type": "code",
   "execution_count": null,
   "metadata": {},
   "outputs": [],
   "source": [
    "# Plot the timeseries\n",
    "autoplot(wti_5yrs, ylab = \"WTI CL1 Daily Price\", xlab = \"Year\")"
   ]
  },
  {
   "cell_type": "markdown",
   "metadata": {
    "deletable": false,
    "editable": false
   },
   "source": [
    "### AR(1) - Autoregressive Model - `arima` function"
   ]
  },
  {
   "cell_type": "code",
   "execution_count": null,
   "metadata": {},
   "outputs": [],
   "source": [
    "# AR(1) Model on 5 years WTI CL1 monthly prices \n",
    "ar01_fit = arima(wti_5yrs, order = c(1,0,0))\n",
    "summary(ar01_fit)"
   ]
  },
  {
   "cell_type": "code",
   "execution_count": null,
   "metadata": {},
   "outputs": [],
   "source": [
    "# Forecast 3 periods into the future\n",
    "forward = forecast(ar01_fit, h = 3)\n",
    "\n",
    "# Plot the model\n",
    "autoplot(forward)"
   ]
  },
  {
   "cell_type": "markdown",
   "metadata": {
    "deletable": false,
    "editable": false
   },
   "source": [
    "### AR(2) - Autoregressive Model"
   ]
  },
  {
   "cell_type": "code",
   "execution_count": null,
   "metadata": {},
   "outputs": [],
   "source": [
    "# AR(2) Model on 5 years WTI CL1 monthly prices \n",
    "ar02_fit = arima(wti_5yrs, order = c(2,0,0))\n",
    "summary(ar02_fit)"
   ]
  },
  {
   "cell_type": "code",
   "execution_count": null,
   "metadata": {},
   "outputs": [],
   "source": [
    "# Forecast 3 periods into the future\n",
    "forward = forecast(ar02_fit, h = 3)\n",
    "# Plot the model\n",
    "autoplot(forward)"
   ]
  },
  {
   "cell_type": "markdown",
   "metadata": {
    "deletable": false,
    "editable": false
   },
   "source": [
    "The AR(2) model has a lower RMSE, so it seems to be a better model."
   ]
  },
  {
   "cell_type": "markdown",
   "metadata": {
    "deletable": false,
    "editable": false
   },
   "source": [
    "## Summary\n",
    "\n",
    "On this lab we learned how to used analytical methods to analyze time series data and build forecasting models. We analyzed financial data in different forms and learned how to transform common csv files and financial data in R to perform analysis. Some of the topics covered on this lab include forecasting performance measures, moving average, exponential smoothing methods, and the Holt-Winters method."
   ]
  },
  {
   "cell_type": "markdown",
   "metadata": {
    "deletable": false,
    "editable": false
   },
   "source": [
    "<a href=\"https://www.coursera.org/learn/applying-data-analytics-business-in-finance\"> <img src=\"./resources/illinois_banner.png\" alt=\"applying-data-analytics-business-in-finance\"/> </a>"
   ]
  }
 ],
 "metadata": {
  "kernelspec": {
   "display_name": "R",
   "language": "R",
   "name": "ir"
  },
  "language_info": {
   "codemirror_mode": "r",
   "file_extension": ".r",
   "mimetype": "text/x-r-source",
   "name": "R",
   "pygments_lexer": "r",
   "version": "3.6.3"
  }
 },
 "nbformat": 4,
 "nbformat_minor": 4
}
